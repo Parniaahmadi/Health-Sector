{
  "nbformat": 4,
  "nbformat_minor": 0,
  "metadata": {
    "colab": {
      "provenance": [],
      "authorship_tag": "ABX9TyMO+zFrZnXlYakhZq4cis/4",
      "include_colab_link": true
    },
    "kernelspec": {
      "name": "python3",
      "display_name": "Python 3"
    },
    "language_info": {
      "name": "python"
    }
  },
  "cells": [
    {
      "cell_type": "markdown",
      "metadata": {
        "id": "view-in-github",
        "colab_type": "text"
      },
      "source": [
        "<a href=\"https://colab.research.google.com/github/Parniaahmadi/Health-Sector/blob/main/Untitled2.ipynb\" target=\"_parent\"><img src=\"https://colab.research.google.com/assets/colab-badge.svg\" alt=\"Open In Colab\"/></a>"
      ]
    },
    {
      "cell_type": "markdown",
      "source": [
        "Programming Skills Test- Done by Parnia Ahmadi"
      ],
      "metadata": {
        "id": "IIZyCv-gHDY5"
      }
    },
    {
      "cell_type": "code",
      "execution_count": 62,
      "metadata": {
        "colab": {
          "base_uri": "https://localhost:8080/",
          "height": 0
        },
        "id": "7Fnb8XpzHAdx",
        "outputId": "567149f0-c83c-41fa-c4cd-b698dedb084d",
        "collapsed": true
      },
      "outputs": [
        {
          "output_type": "stream",
          "name": "stdout",
          "text": [
            "Requirement already satisfied: pandas in /usr/local/lib/python3.10/dist-packages (2.0.3)\n",
            "Requirement already satisfied: python-dateutil>=2.8.2 in /usr/local/lib/python3.10/dist-packages (from pandas) (2.8.2)\n",
            "Requirement already satisfied: pytz>=2020.1 in /usr/local/lib/python3.10/dist-packages (from pandas) (2023.4)\n",
            "Requirement already satisfied: tzdata>=2022.1 in /usr/local/lib/python3.10/dist-packages (from pandas) (2024.1)\n",
            "Requirement already satisfied: numpy>=1.21.0 in /usr/local/lib/python3.10/dist-packages (from pandas) (1.25.2)\n",
            "Requirement already satisfied: six>=1.5 in /usr/local/lib/python3.10/dist-packages (from python-dateutil>=2.8.2->pandas) (1.16.0)\n"
          ]
        }
      ],
      "source": [
        "!pip install pandas\n"
      ]
    },
    {
      "cell_type": "code",
      "source": [
        "import pandas as pd\n"
      ],
      "metadata": {
        "id": "rtRxkVtuHf2f"
      },
      "execution_count": 81,
      "outputs": []
    },
    {
      "cell_type": "markdown",
      "source": [
        "Purpose of the steps below is to perform deidentification on all 3 files. A\n",
        "personal health identifer that identifies a patient is replaced with another unique ID for privacy\n",
        "purposes."
      ],
      "metadata": {
        "id": "AJZntP5M1Sp4"
      }
    },
    {
      "cell_type": "markdown",
      "source": [
        "Read in the CSV files (admissions_surg.csv, admissions_med.csv and imaging.csv)"
      ],
      "metadata": {
        "id": "wTXi1B9O0TVy"
      }
    },
    {
      "cell_type": "code",
      "source": [
        "admissions_surg = pd.read_csv('admissions_surg.csv')\n",
        "admissions_med = pd.read_csv('admissions_med.csv')\n",
        "imaging = pd.read_csv('imaging.csv')\n",
        "\n",
        "print(\"Admissions - Surgical Department:\")\n",
        "print(admissions_surg.head())\n",
        "\n",
        "print(\"Admissions - Medical Department:\")\n",
        "print(admissions_med.head())\n",
        "\n",
        "print(\"Imaging Data:\")\n",
        "print(imaging.head())\n"
      ],
      "metadata": {
        "colab": {
          "base_uri": "https://localhost:8080/",
          "height": 0
        },
        "id": "jkI8Wt10KkR9",
        "outputId": "f2afe349-b9a4-4d4b-e83a-af63531cc322",
        "collapsed": true
      },
      "execution_count": 65,
      "outputs": [
        {
          "output_type": "stream",
          "name": "stdout",
          "text": [
            "Admissions - Surgical Department:\n",
            "     ID ADMISSION.DATE ADMISSION.TIME DISCHARGE.DATE DISCHARGE.TIME  \\\n",
            "0  1068     1998-02-01          07:02     1998-03-31          07:17   \n",
            "1  1125     2010-11-30          04:33     2011-03-25          20:59   \n",
            "2  1127     2015-03-05          09:40     2015-08-28          04:51   \n",
            "3  1363     1987-11-07          21:37     1988-05-10          15:32   \n",
            "4  1388     1997-07-03          03:44     1997-12-27          03:45   \n",
            "\n",
            "        DEPARTMENT GENDER   AGE MAIN.DIAGNOSIS.ICD10  \\\n",
            "0  General Surgery      M   NaN                E0800   \n",
            "1  General Surgery      F  24.0                M0500   \n",
            "2  General Surgery      M  92.0                 O045   \n",
            "3  General Surgery      F  93.0                A6000   \n",
            "4  General Surgery      F  75.0                 K640   \n",
            "\n",
            "                        MAIN.DIAGNOSIS.NAME  \n",
            "0      Diabetes mellitus with complications  \n",
            "1  Rheumatoid arthritis and related disease  \n",
            "2                          Induced abortion  \n",
            "3                           Viral infection  \n",
            "4                               Hemorrhoids  \n",
            "Admissions - Medical Department:\n",
            "     ID admission_date admission_time discharge_date discharge_time  \\\n",
            "0  1064     1985-10-19          04:27     1986-01-01            NaN   \n",
            "1  1066     1990-06-26          21:06     1990-09-03          21:03   \n",
            "2  1074     1994-06-13          06:36     1994-12-22          07:21   \n",
            "3  1108     2005-03-11          21:54     2005-04-19            NaN   \n",
            "4  1137     1997-06-26          09:49     1997-09-06          21:03   \n",
            "\n",
            "                  department gender   age main_diagnosis_icd10  \\\n",
            "0  General Internal Medicine      M  63.0                 N830   \n",
            "1  General Internal Medicine      F  63.0                 N410   \n",
            "2  General Internal Medicine      F  51.0                 K640   \n",
            "3  General Internal Medicine      F   NaN                C6200   \n",
            "4  General Internal Medicine      M  81.0                 I462   \n",
            "\n",
            "                              main_diagnosis_name  \n",
            "0                                    Ovarian cyst  \n",
            "1  Inflammatory conditions of male genital organs  \n",
            "2                                     Hemorrhoids  \n",
            "3                                Cancer of testis  \n",
            "4     Cardiac arrest and ventricular fibrillation  \n",
            "Imaging Data:\n",
            "     ID       test_name ordered_date_time performed_date performed_time  \\\n",
            "0  1064              US               NaN     1985-12-17          10:27   \n",
            "1  1064       US PELVIS               NaN     1985-12-02          11:40   \n",
            "2  1066      Abdomen CT               NaN     1990-08-05          12:26   \n",
            "3  1068              US               NaN     1998-03-24          16:15   \n",
            "4  1074  CT neck + head               NaN     1994-11-05          01:36   \n",
            "\n",
            "      technician_name                brief_report  \n",
            "0       Trevon Hopson  No significant abnormality  \n",
            "1        Claire Melko          Indication: normal  \n",
            "2  Ladonna Mcallister          Indication: Normal  \n",
            "3        claire melko          Indication: Normal  \n",
            "4     Lorena Burciaga                      Normal  \n"
          ]
        }
      ]
    },
    {
      "cell_type": "markdown",
      "source": [
        "Compile a list of values from the ID column from both admissions_surg and\n",
        "admissions_med.\n"
      ],
      "metadata": {
        "id": "M25g-5e30rRO"
      }
    },
    {
      "cell_type": "code",
      "source": [
        "ids_surg = admissions_surg['ID']\n",
        "ids_med = admissions_med['ID']\n",
        "\n",
        "combined_ids = pd.concat([ids_surg, ids_med]).unique() # Combine the IDs from both lists and drop duplicates to get unique IDs\n",
        "\n",
        "print(\"Combined Unique IDs:\")\n",
        "print(combined_ids)\n"
      ],
      "metadata": {
        "colab": {
          "base_uri": "https://localhost:8080/",
          "height": 0
        },
        "collapsed": true,
        "id": "rWJ1LwRAMSm2",
        "outputId": "9605cd3f-8d0b-48aa-d918-e424111f3b1e"
      },
      "execution_count": 66,
      "outputs": [
        {
          "output_type": "stream",
          "name": "stdout",
          "text": [
            "Combined Unique IDs:\n",
            "[ 1068  1125  1127 ... 99956 99979 99991]\n"
          ]
        }
      ]
    },
    {
      "cell_type": "markdown",
      "source": [
        "Create a new object called q1b and assign a unique identifier called DE_ID for every ID in a).\n"
      ],
      "metadata": {
        "id": "y05QLzRS06xr"
      }
    },
    {
      "cell_type": "code",
      "source": [
        "\n",
        "# new DataFrame with unique IDs and their corresponding new DE_ID\n",
        "q1b = pd.DataFrame({\n",
        "    'ID': combined_ids,\n",
        "    'DE_ID': range(1, len(combined_ids) + 1)\n",
        "})\n",
        "\n",
        "print(q1b.head(10))\n"
      ],
      "metadata": {
        "colab": {
          "base_uri": "https://localhost:8080/",
          "height": 0
        },
        "collapsed": true,
        "id": "jxX7ump3M2-w",
        "outputId": "114d6d35-878e-4046-8b0a-6bf99e85753c"
      },
      "execution_count": 67,
      "outputs": [
        {
          "output_type": "stream",
          "name": "stdout",
          "text": [
            "     ID  DE_ID\n",
            "0  1068      1\n",
            "1  1125      2\n",
            "2  1127      3\n",
            "3  1363      4\n",
            "4  1388      5\n",
            "5  1403      6\n",
            "6  1419      7\n",
            "7  1435      8\n",
            "8  1631      9\n",
            "9  1654     10\n"
          ]
        }
      ]
    },
    {
      "cell_type": "code",
      "source": [
        "# Check to see if the 'DE_ID' column in q1b is unique\n",
        "is_unique = q1b['DE_ID'].is_unique\n",
        "\n",
        "if is_unique:\n",
        "    print(\"All DE_ID values in q1b are unique.\")\n",
        "else:\n",
        "    print(\"There are duplicate DE_ID values in q1b.\")\n"
      ],
      "metadata": {
        "colab": {
          "base_uri": "https://localhost:8080/",
          "height": 0
        },
        "id": "XbIHPQgCNZ9g",
        "outputId": "f3c02ab2-a30f-4a1a-b7b4-5d18d05700a6",
        "collapsed": true
      },
      "execution_count": 68,
      "outputs": [
        {
          "output_type": "stream",
          "name": "stdout",
          "text": [
            "All DE_ID values in q1b are unique.\n"
          ]
        }
      ]
    },
    {
      "cell_type": "markdown",
      "source": [
        "Using q1b, de-identify the three loaded datasets"
      ],
      "metadata": {
        "id": "D5kBScwr8x9G"
      }
    },
    {
      "cell_type": "code",
      "source": [
        "\n",
        "def deidentify(df, id_map):\n",
        "    df_deid = df.merge(id_map, on='ID')\n",
        "    df_deid.drop('ID', axis=1, inplace=True)\n",
        "    df_deid.rename(columns={'DE_ID': 'ID'}, inplace=True)\n",
        "    return df_deid\n",
        "\n",
        "admissions_surg_deid = deidentify(admissions_surg, q1b)\n",
        "admissions_med_deid = deidentify(admissions_med, q1b)\n",
        "imaging_deid = deidentify(imaging, q1b)\n",
        "\n",
        "print(\"De-identified Surgical Admissions:\")\n",
        "print(admissions_surg_deid.head())\n",
        "\n",
        "print(\"De-identified Medical Admissions:\")\n",
        "print(admissions_med_deid.head())\n",
        "\n",
        "print(\"De-identified Imaging Data:\")\n",
        "print(imaging_deid.head())\n"
      ],
      "metadata": {
        "colab": {
          "base_uri": "https://localhost:8080/",
          "height": 0
        },
        "collapsed": true,
        "id": "RJroW26NN27c",
        "outputId": "7ec67ab5-3c48-4f38-c6f4-d6f91a65c112"
      },
      "execution_count": 69,
      "outputs": [
        {
          "output_type": "stream",
          "name": "stdout",
          "text": [
            "De-identified Surgical Admissions:\n",
            "  ADMISSION.DATE ADMISSION.TIME DISCHARGE.DATE DISCHARGE.TIME  \\\n",
            "0     1998-02-01          07:02     1998-03-31          07:17   \n",
            "1     2010-11-30          04:33     2011-03-25          20:59   \n",
            "2     2015-03-05          09:40     2015-08-28          04:51   \n",
            "3     1987-11-07          21:37     1988-05-10          15:32   \n",
            "4     1997-07-03          03:44     1997-12-27          03:45   \n",
            "\n",
            "        DEPARTMENT GENDER   AGE MAIN.DIAGNOSIS.ICD10  \\\n",
            "0  General Surgery      M   NaN                E0800   \n",
            "1  General Surgery      F  24.0                M0500   \n",
            "2  General Surgery      M  92.0                 O045   \n",
            "3  General Surgery      F  93.0                A6000   \n",
            "4  General Surgery      F  75.0                 K640   \n",
            "\n",
            "                        MAIN.DIAGNOSIS.NAME  ID  \n",
            "0      Diabetes mellitus with complications   1  \n",
            "1  Rheumatoid arthritis and related disease   2  \n",
            "2                          Induced abortion   3  \n",
            "3                           Viral infection   4  \n",
            "4                               Hemorrhoids   5  \n",
            "De-identified Medical Admissions:\n",
            "  admission_date admission_time discharge_date discharge_time  \\\n",
            "0     1985-10-19          04:27     1986-01-01            NaN   \n",
            "1     1990-06-26          21:06     1990-09-03          21:03   \n",
            "2     1994-06-13          06:36     1994-12-22          07:21   \n",
            "3     2005-03-11          21:54     2005-04-19            NaN   \n",
            "4     1997-06-26          09:49     1997-09-06          21:03   \n",
            "\n",
            "                  department gender   age main_diagnosis_icd10  \\\n",
            "0  General Internal Medicine      M  63.0                 N830   \n",
            "1  General Internal Medicine      F  63.0                 N410   \n",
            "2  General Internal Medicine      F  51.0                 K640   \n",
            "3  General Internal Medicine      F   NaN                C6200   \n",
            "4  General Internal Medicine      M  81.0                 I462   \n",
            "\n",
            "                              main_diagnosis_name    ID  \n",
            "0                                    Ovarian cyst  1196  \n",
            "1  Inflammatory conditions of male genital organs  1197  \n",
            "2                                     Hemorrhoids  1198  \n",
            "3                                Cancer of testis  1199  \n",
            "4     Cardiac arrest and ventricular fibrillation  1200  \n",
            "De-identified Imaging Data:\n",
            "        test_name ordered_date_time performed_date performed_time  \\\n",
            "0              US               NaN     1985-12-17          10:27   \n",
            "1       US PELVIS               NaN     1985-12-02          11:40   \n",
            "2      Abdomen CT               NaN     1990-08-05          12:26   \n",
            "3              US               NaN     1998-03-24          16:15   \n",
            "4  CT neck + head               NaN     1994-11-05          01:36   \n",
            "\n",
            "      technician_name                brief_report    ID  \n",
            "0       Trevon Hopson  No significant abnormality  1196  \n",
            "1        Claire Melko          Indication: normal  1196  \n",
            "2  Ladonna Mcallister          Indication: Normal  1197  \n",
            "3        claire melko          Indication: Normal     1  \n",
            "4     Lorena Burciaga                      Normal  1198  \n"
          ]
        }
      ]
    },
    {
      "cell_type": "markdown",
      "source": [
        "Repated process with different codes for above task (Using q1b, de-identify the three loaded datasets)"
      ],
      "metadata": {
        "id": "3NaMFqzK8tMz"
      }
    },
    {
      "cell_type": "code",
      "source": [
        "admissions_surg1 = admissions_surg.merge(q1b, on='ID').drop(columns=['ID']).rename(columns={'DE_ID': 'ID'})\n",
        "admissions_med1 = admissions_med.merge(q1b, on='ID').drop(columns=['ID']).rename(columns={'DE_ID': 'ID'})\n",
        "imaging1 = imaging.merge(q1b, on='ID').drop(columns=['ID']).rename(columns={'DE_ID': 'ID'})\n",
        "\n",
        "\n",
        "print(\"De-identified Surgical Admissions:\")\n",
        "print(admissions_surg1.head())\n",
        "\n",
        "print(\"De-identified Medical Admissions:\")\n",
        "print(admissions_med1.head())\n",
        "\n",
        "print(\"De-identified Imaging Data:\")\n",
        "print(imaging1.head())\n"
      ],
      "metadata": {
        "colab": {
          "base_uri": "https://localhost:8080/",
          "height": 0
        },
        "id": "ftKM6GKc3uvq",
        "outputId": "7a830d5f-f392-4241-f485-07c2f1d75a9d",
        "collapsed": true
      },
      "execution_count": 70,
      "outputs": [
        {
          "output_type": "stream",
          "name": "stdout",
          "text": [
            "De-identified Surgical Admissions:\n",
            "  ADMISSION.DATE ADMISSION.TIME DISCHARGE.DATE DISCHARGE.TIME  \\\n",
            "0     1998-02-01          07:02     1998-03-31          07:17   \n",
            "1     2010-11-30          04:33     2011-03-25          20:59   \n",
            "2     2015-03-05          09:40     2015-08-28          04:51   \n",
            "3     1987-11-07          21:37     1988-05-10          15:32   \n",
            "4     1997-07-03          03:44     1997-12-27          03:45   \n",
            "\n",
            "        DEPARTMENT GENDER   AGE MAIN.DIAGNOSIS.ICD10  \\\n",
            "0  General Surgery      M   NaN                E0800   \n",
            "1  General Surgery      F  24.0                M0500   \n",
            "2  General Surgery      M  92.0                 O045   \n",
            "3  General Surgery      F  93.0                A6000   \n",
            "4  General Surgery      F  75.0                 K640   \n",
            "\n",
            "                        MAIN.DIAGNOSIS.NAME  ID  \n",
            "0      Diabetes mellitus with complications   1  \n",
            "1  Rheumatoid arthritis and related disease   2  \n",
            "2                          Induced abortion   3  \n",
            "3                           Viral infection   4  \n",
            "4                               Hemorrhoids   5  \n",
            "De-identified Medical Admissions:\n",
            "  admission_date admission_time discharge_date discharge_time  \\\n",
            "0     1985-10-19          04:27     1986-01-01            NaN   \n",
            "1     1990-06-26          21:06     1990-09-03          21:03   \n",
            "2     1994-06-13          06:36     1994-12-22          07:21   \n",
            "3     2005-03-11          21:54     2005-04-19            NaN   \n",
            "4     1997-06-26          09:49     1997-09-06          21:03   \n",
            "\n",
            "                  department gender   age main_diagnosis_icd10  \\\n",
            "0  General Internal Medicine      M  63.0                 N830   \n",
            "1  General Internal Medicine      F  63.0                 N410   \n",
            "2  General Internal Medicine      F  51.0                 K640   \n",
            "3  General Internal Medicine      F   NaN                C6200   \n",
            "4  General Internal Medicine      M  81.0                 I462   \n",
            "\n",
            "                              main_diagnosis_name    ID  \n",
            "0                                    Ovarian cyst  1196  \n",
            "1  Inflammatory conditions of male genital organs  1197  \n",
            "2                                     Hemorrhoids  1198  \n",
            "3                                Cancer of testis  1199  \n",
            "4     Cardiac arrest and ventricular fibrillation  1200  \n",
            "De-identified Imaging Data:\n",
            "        test_name ordered_date_time performed_date performed_time  \\\n",
            "0              US               NaN     1985-12-17          10:27   \n",
            "1       US PELVIS               NaN     1985-12-02          11:40   \n",
            "2      Abdomen CT               NaN     1990-08-05          12:26   \n",
            "3              US               NaN     1998-03-24          16:15   \n",
            "4  CT neck + head               NaN     1994-11-05          01:36   \n",
            "\n",
            "      technician_name                brief_report    ID  \n",
            "0       Trevon Hopson  No significant abnormality  1196  \n",
            "1        Claire Melko          Indication: normal  1196  \n",
            "2  Ladonna Mcallister          Indication: Normal  1197  \n",
            "3        claire melko          Indication: Normal     1  \n",
            "4     Lorena Burciaga                      Normal  1198  \n"
          ]
        }
      ]
    },
    {
      "cell_type": "markdown",
      "source": [
        "Create one data frame called admissions_img, consisting of all rows in admissions_surg and\n",
        "admissions_med, merged with the imaging data using DE_ID (retaining all DE_IDs from both)."
      ],
      "metadata": {
        "id": "EdYi-_H5Oimh"
      }
    },
    {
      "cell_type": "code",
      "source": [
        "admissions_combined = pd.concat([admissions_surg_deid, admissions_med_deid])\n",
        "\n",
        "admissions_img = admissions_combined.merge(imaging_deid, on='ID', how='outer')\n",
        "\n",
        "print(\"admissions_img DataFrame:\")\n",
        "print(admissions_img)"
      ],
      "metadata": {
        "colab": {
          "base_uri": "https://localhost:8080/",
          "height": 0
        },
        "id": "dckQ6nOW7giI",
        "outputId": "800db613-793e-4f75-e52b-ddbed7653940",
        "collapsed": true
      },
      "execution_count": 71,
      "outputs": [
        {
          "output_type": "stream",
          "name": "stdout",
          "text": [
            "Merged admissions_img DataFrame:\n",
            "     ADMISSION.DATE ADMISSION.TIME DISCHARGE.DATE DISCHARGE.TIME  \\\n",
            "0        1998-02-01          07:02     1998-03-31          07:17   \n",
            "1        2010-11-30          04:33     2011-03-25          20:59   \n",
            "2        2015-03-05          09:40     2015-08-28          04:51   \n",
            "3        2015-03-05          09:40     2015-08-28          04:51   \n",
            "4        1987-11-07          21:37     1988-05-10          15:32   \n",
            "...             ...            ...            ...            ...   \n",
            "5401            NaN            NaN            NaN            NaN   \n",
            "5402            NaN            NaN            NaN            NaN   \n",
            "5403            NaN            NaN            NaN            NaN   \n",
            "5404            NaN            NaN            NaN            NaN   \n",
            "5405            NaN            NaN            NaN            NaN   \n",
            "\n",
            "           DEPARTMENT GENDER   AGE MAIN.DIAGNOSIS.ICD10  \\\n",
            "0     General Surgery      M   NaN                E0800   \n",
            "1     General Surgery      F  24.0                M0500   \n",
            "2     General Surgery      M  92.0                 O045   \n",
            "3     General Surgery      M  92.0                 O045   \n",
            "4     General Surgery      F  93.0                A6000   \n",
            "...               ...    ...   ...                  ...   \n",
            "5401              NaN    NaN   NaN                  NaN   \n",
            "5402              NaN    NaN   NaN                  NaN   \n",
            "5403              NaN    NaN   NaN                  NaN   \n",
            "5404              NaN    NaN   NaN                  NaN   \n",
            "5405              NaN    NaN   NaN                  NaN   \n",
            "\n",
            "                           MAIN.DIAGNOSIS.NAME    ID  ... gender    age  \\\n",
            "0         Diabetes mellitus with complications     1  ...    NaN    NaN   \n",
            "1     Rheumatoid arthritis and related disease     2  ...    NaN    NaN   \n",
            "2                             Induced abortion     3  ...    NaN    NaN   \n",
            "3                             Induced abortion     3  ...    NaN    NaN   \n",
            "4                              Viral infection     4  ...    NaN    NaN   \n",
            "...                                        ...   ...  ...    ...    ...   \n",
            "5401                                       NaN  3499  ...      M   95.0   \n",
            "5402                                       NaN  3499  ...      M   95.0   \n",
            "5403                                       NaN  3500  ...      F  100.0   \n",
            "5404                                       NaN  3500  ...      F  100.0   \n",
            "5405                                       NaN  3500  ...      F  100.0   \n",
            "\n",
            "     main_diagnosis_icd10               main_diagnosis_name  \\\n",
            "0                     NaN                               NaN   \n",
            "1                     NaN                               NaN   \n",
            "2                     NaN                               NaN   \n",
            "3                     NaN                               NaN   \n",
            "4                     NaN                               NaN   \n",
            "...                   ...                               ...   \n",
            "5401               H40001                          Glaucoma   \n",
            "5402               H40001                          Glaucoma   \n",
            "5403              T424X1A  Poisoning by psychotropic agents   \n",
            "5404              T424X1A  Poisoning by psychotropic agents   \n",
            "5405              T424X1A  Poisoning by psychotropic agents   \n",
            "\n",
            "              test_name ordered_date_time  performed_date performed_time  \\\n",
            "0                    US               NaN      1998-03-24          16:15   \n",
            "1      ct neck and head               NaN      2011-03-12          12:33   \n",
            "2               ct neck               NaN      2015-05-08          03:06   \n",
            "3        RT LEG DOPPLER               NaN      2015-05-21          02:44   \n",
            "4               ct neck               NaN      1988-01-26          11:47   \n",
            "...                 ...               ...             ...            ...   \n",
            "5401         DOPPLER US  2004-10-21 22:49      2004-10-21          23:58   \n",
            "5402   NECK AND HEAD CT  2004-08-16 13:28      2004-08-18          03:19   \n",
            "5403     CT neck + head  2002-09-18 09:50      2002-09-19          20:47   \n",
            "5404     RT LEG DOPPLER  2002-09-20 17:41      2002-09-20          23:25   \n",
            "5405  ABDOMEN/PELVIS US  2002-06-26 03:07      2002-06-26          15:50   \n",
            "\n",
            "         technician_name                      brief_report  \n",
            "0           claire melko                Indication: Normal  \n",
            "1        zach straughter                            Normal  \n",
            "2      mastoora al-kaber                            Cancer  \n",
            "3             marco carr        On visual analysis, normal  \n",
            "4             marco carr        No significant abnormality  \n",
            "...                  ...                               ...  \n",
            "5401       jessenya vega  Probable new diagnosis of cancer  \n",
            "5402          marco carr                            Cancer  \n",
            "5403  ladonna mcallister               Rule out metastases  \n",
            "5404     dashanay langer        No significant abnormality  \n",
            "5405  ladonna mcallister               Rule out metastases  \n",
            "\n",
            "[5406 rows x 25 columns]\n"
          ]
        }
      ]
    },
    {
      "cell_type": "markdown",
      "source": [
        "In this step , I create a new length_of_stay variable defined as discharge date and time minus\n",
        "admission date and time (in days).\n",
        "Then, I calculate the mean length_of_stay for each department."
      ],
      "metadata": {
        "id": "DaIpBUbZ_inQ"
      }
    },
    {
      "cell_type": "code",
      "source": [
        "\n",
        "admissions_img['admission_datetime'] = pd.to_datetime(admissions_img['admission_date'] + ' ' + admissions_img['admission_time'])\n",
        "admissions_img['discharge_datetime'] = pd.to_datetime(admissions_img['discharge_date'] + ' ' + admissions_img['discharge_time'], errors='coerce')\n",
        "\n",
        "admissions_img['length_of_stay'] = (admissions_img['discharge_datetime'] - admissions_img['admission_datetime']).dt.total_seconds() / (24 * 3600)\n",
        "\n",
        "mean_length_of_stay = admissions_img.groupby('department')['length_of_stay'].mean()\n",
        "\n",
        "print(mean_length_of_stay)\n"
      ],
      "metadata": {
        "colab": {
          "base_uri": "https://localhost:8080/",
          "height": 0
        },
        "id": "gFeTeyB6_kUl",
        "outputId": "51463014-9dd6-4dad-dcfa-d755414e7ff2",
        "collapsed": true
      },
      "execution_count": 72,
      "outputs": [
        {
          "output_type": "stream",
          "name": "stdout",
          "text": [
            "department\n",
            "Addiction Services           100.623098\n",
            "General Internal Medicine     99.340352\n",
            "Oncology                     104.213743\n",
            "Palliative Care               95.497606\n",
            "Name: length_of_stay, dtype: float64\n"
          ]
        }
      ]
    },
    {
      "cell_type": "markdown",
      "source": [
        "In imaging, I  Convert 'performed_date' to datetime, then  I drop the rows with Nat value. After that, I filter to the first performed test for each test_name and I save the resulting data frame as\n",
        "q4_df. Then, I transform the data into wide format such that each test_name becomes a column\n",
        "displaying the performed_date of that test.\n"
      ],
      "metadata": {
        "id": "vXextZ5kBxvu"
      }
    },
    {
      "cell_type": "code",
      "source": [
        "\n",
        "imaging['performed_date'] = pd.to_datetime(imaging['performed_date'], errors='coerce')\n",
        "\n",
        "imaging = imaging.dropna(subset=['performed_date'])\n",
        "\n",
        "imaging_sorted = imaging.sort_values(by=['ID', 'test_name', 'performed_date'])\n",
        "\n",
        "q4_df = imaging_sorted.groupby(['ID', 'test_name']).first().reset_index()\n",
        "\n",
        "print(q4_df.head())\n",
        "\n"
      ],
      "metadata": {
        "colab": {
          "base_uri": "https://localhost:8080/",
          "height": 0
        },
        "id": "BMy9XrWkCkGY",
        "outputId": "4bc9b658-b0cf-44c9-ed83-aa6c6e106cb9",
        "collapsed": true
      },
      "execution_count": 73,
      "outputs": [
        {
          "output_type": "stream",
          "name": "stdout",
          "text": [
            "Filtered DataFrame (q4_df) with the first performed test for each test_name:\n",
            "     ID       test_name ordered_date_time performed_date performed_time  \\\n",
            "0  1064              US              None     1985-12-17          10:27   \n",
            "1  1064       US PELVIS              None     1985-12-02          11:40   \n",
            "2  1066      Abdomen CT              None     1990-08-05          12:26   \n",
            "3  1068              US              None     1998-03-24          16:15   \n",
            "4  1074  CT neck + head              None     1994-11-05          01:36   \n",
            "\n",
            "      technician_name                brief_report  \n",
            "0       Trevon Hopson  No significant abnormality  \n",
            "1        Claire Melko          Indication: normal  \n",
            "2  Ladonna Mcallister          Indication: Normal  \n",
            "3        claire melko          Indication: Normal  \n",
            "4     Lorena Burciaga                      Normal  \n"
          ]
        }
      ]
    },
    {
      "cell_type": "code",
      "source": [
        "q4_wide = q4_df.pivot(index='ID', columns='test_name', values='performed_date')\n",
        "\n",
        "print(\"Wide format table :\")\n",
        "print(q4_wide.head())\n",
        "\n",
        "from prettytable import PrettyTable\n",
        "table = PrettyTable()\n",
        "table.field_names = [\"ID\"] + list(q4_wide.columns)\n",
        "\n",
        "for row in q4_wide.reset_index().head(50).itertuples(index=False):\n",
        "    table.add_row(row)\n",
        "print(table)\n"
      ],
      "metadata": {
        "colab": {
          "base_uri": "https://localhost:8080/"
        },
        "id": "8S1xJb4jcYCZ",
        "outputId": "87aeef13-7a29-4381-f17f-7a7706d1c733"
      },
      "execution_count": 87,
      "outputs": [
        {
          "output_type": "stream",
          "name": "stdout",
          "text": [
            "Wide format table :\n",
            "test_name ABDOMEN/PELVIS US Abdomen CT  CT CT - ABDOMEN CT - Femur  \\\n",
            "ID                                                                   \n",
            "1064                    NaT        NaT NaT          NaT        NaT   \n",
            "1066                    NaT 1990-08-05 NaT          NaT        NaT   \n",
            "1068                    NaT        NaT NaT          NaT        NaT   \n",
            "1074                    NaT        NaT NaT          NaT        NaT   \n",
            "1108                    NaT        NaT NaT          NaT        NaT   \n",
            "\n",
            "test_name CT neck + head DOP LEG VEIN DOPPLER US Doppler Ultrasound Head ct  \\\n",
            "ID                                                                            \n",
            "1064                 NaT          NaT        NaT                NaT     NaT   \n",
            "1066                 NaT          NaT        NaT                NaT     NaT   \n",
            "1068                 NaT          NaT        NaT                NaT     NaT   \n",
            "1074          1994-11-05          NaT        NaT                NaT     NaT   \n",
            "1108                 NaT          NaT        NaT                NaT     NaT   \n",
            "\n",
            "test_name LT LEG DOPPLER NECK AND HEAD CT RT LEG DOPPLER THORAX/ABDOMEN CT  \\\n",
            "ID                                                                           \n",
            "1064                 NaT              NaT            NaT               NaT   \n",
            "1066                 NaT              NaT            NaT               NaT   \n",
            "1068                 NaT              NaT            NaT               NaT   \n",
            "1074                 NaT              NaT            NaT               NaT   \n",
            "1108                 NaT              NaT            NaT               NaT   \n",
            "\n",
            "test_name         US US ABDOMEN  US PELVIS Ultrasound ct neck ct neck and head  \n",
            "ID                                                                              \n",
            "1064      1985-12-17        NaT 1985-12-02        NaT     NaT              NaT  \n",
            "1066             NaT        NaT        NaT        NaT     NaT              NaT  \n",
            "1068      1998-03-24        NaT        NaT        NaT     NaT              NaT  \n",
            "1074             NaT        NaT        NaT        NaT     NaT              NaT  \n",
            "1108             NaT        NaT        NaT 2005-04-04     NaT              NaT  \n",
            "+------+---------------------+---------------------+---------------------+---------------------+---------------------+---------------------+---------------------+---------------------+---------------------+---------+---------------------+---------------------+---------------------+-------------------+---------------------+---------------------+---------------------+---------------------+---------------------+---------------------+\n",
            "|  ID  |  ABDOMEN/PELVIS US  |      Abdomen CT     |          CT         |     CT - ABDOMEN    |      CT - Femur     |    CT neck + head   |     DOP LEG VEIN    |      DOPPLER US     |  Doppler Ultrasound | Head ct |    LT LEG DOPPLER   |   NECK AND HEAD CT  |    RT LEG DOPPLER   | THORAX/ABDOMEN CT |          US         |      US ABDOMEN     |      US PELVIS      |      Ultrasound     |       ct neck       |   ct neck and head  |\n",
            "+------+---------------------+---------------------+---------------------+---------------------+---------------------+---------------------+---------------------+---------------------+---------------------+---------+---------------------+---------------------+---------------------+-------------------+---------------------+---------------------+---------------------+---------------------+---------------------+---------------------+\n",
            "| 1064 |         NaT         |         NaT         |         NaT         |         NaT         |         NaT         |         NaT         |         NaT         |         NaT         |         NaT         |   NaT   |         NaT         |         NaT         |         NaT         |        NaT        | 1985-12-17 00:00:00 |         NaT         | 1985-12-02 00:00:00 |         NaT         |         NaT         |         NaT         |\n",
            "| 1066 |         NaT         | 1990-08-05 00:00:00 |         NaT         |         NaT         |         NaT         |         NaT         |         NaT         |         NaT         |         NaT         |   NaT   |         NaT         |         NaT         |         NaT         |        NaT        |         NaT         |         NaT         |         NaT         |         NaT         |         NaT         |         NaT         |\n",
            "| 1068 |         NaT         |         NaT         |         NaT         |         NaT         |         NaT         |         NaT         |         NaT         |         NaT         |         NaT         |   NaT   |         NaT         |         NaT         |         NaT         |        NaT        | 1998-03-24 00:00:00 |         NaT         |         NaT         |         NaT         |         NaT         |         NaT         |\n",
            "| 1074 |         NaT         |         NaT         |         NaT         |         NaT         |         NaT         | 1994-11-05 00:00:00 |         NaT         |         NaT         |         NaT         |   NaT   |         NaT         |         NaT         |         NaT         |        NaT        |         NaT         |         NaT         |         NaT         |         NaT         |         NaT         |         NaT         |\n",
            "| 1108 |         NaT         |         NaT         |         NaT         |         NaT         |         NaT         |         NaT         |         NaT         |         NaT         |         NaT         |   NaT   |         NaT         |         NaT         |         NaT         |        NaT        |         NaT         |         NaT         |         NaT         | 2005-04-04 00:00:00 |         NaT         |         NaT         |\n",
            "| 1125 |         NaT         |         NaT         |         NaT         |         NaT         |         NaT         |         NaT         |         NaT         |         NaT         |         NaT         |   NaT   |         NaT         |         NaT         |         NaT         |        NaT        |         NaT         |         NaT         |         NaT         |         NaT         |         NaT         | 2011-03-12 00:00:00 |\n",
            "| 1127 |         NaT         |         NaT         |         NaT         |         NaT         |         NaT         |         NaT         |         NaT         |         NaT         |         NaT         |   NaT   |         NaT         |         NaT         | 2015-05-21 00:00:00 |        NaT        |         NaT         |         NaT         |         NaT         |         NaT         | 2015-05-08 00:00:00 |         NaT         |\n",
            "| 1137 |         NaT         |         NaT         | 1997-08-04 00:00:00 |         NaT         |         NaT         |         NaT         |         NaT         |         NaT         |         NaT         |   NaT   |         NaT         |         NaT         |         NaT         |        NaT        |         NaT         |         NaT         |         NaT         |         NaT         |         NaT         |         NaT         |\n",
            "| 1194 |         NaT         |         NaT         |         NaT         |         NaT         |         NaT         |         NaT         |         NaT         |         NaT         |         NaT         |   NaT   | 1986-10-28 00:00:00 |         NaT         |         NaT         |        NaT        |         NaT         |         NaT         |         NaT         |         NaT         |         NaT         |         NaT         |\n",
            "| 1308 |         NaT         |         NaT         | 1986-01-09 00:00:00 | 1985-12-31 00:00:00 |         NaT         |         NaT         |         NaT         |         NaT         |         NaT         |   NaT   |         NaT         |         NaT         |         NaT         |        NaT        |         NaT         |         NaT         |         NaT         |         NaT         |         NaT         |         NaT         |\n",
            "| 1321 |         NaT         |         NaT         |         NaT         |         NaT         |         NaT         |         NaT         |         NaT         |         NaT         |         NaT         |   NaT   |         NaT         |         NaT         |         NaT         |        NaT        |         NaT         |         NaT         |         NaT         |         NaT         |         NaT         | 2002-11-21 00:00:00 |\n",
            "| 1339 |         NaT         |         NaT         |         NaT         | 2020-02-17 00:00:00 |         NaT         |         NaT         |         NaT         |         NaT         |         NaT         |   NaT   |         NaT         |         NaT         |         NaT         |        NaT        | 2020-02-16 00:00:00 |         NaT         |         NaT         |         NaT         |         NaT         |         NaT         |\n",
            "| 1363 |         NaT         |         NaT         |         NaT         |         NaT         |         NaT         |         NaT         |         NaT         |         NaT         |         NaT         |   NaT   |         NaT         |         NaT         |         NaT         |        NaT        |         NaT         |         NaT         |         NaT         |         NaT         | 1988-01-26 00:00:00 |         NaT         |\n",
            "| 1386 |         NaT         | 1994-11-14 00:00:00 | 1994-12-02 00:00:00 |         NaT         |         NaT         |         NaT         |         NaT         |         NaT         |         NaT         |   NaT   |         NaT         |         NaT         |         NaT         |        NaT        |         NaT         |         NaT         |         NaT         |         NaT         |         NaT         |         NaT         |\n",
            "| 1388 |         NaT         |         NaT         |         NaT         | 1997-07-03 00:00:00 |         NaT         |         NaT         |         NaT         |         NaT         |         NaT         |   NaT   |         NaT         |         NaT         |         NaT         |        NaT        | 1997-11-03 00:00:00 |         NaT         |         NaT         |         NaT         |         NaT         |         NaT         |\n",
            "| 1419 |         NaT         |         NaT         |         NaT         |         NaT         |         NaT         | 1998-08-26 00:00:00 |         NaT         |         NaT         |         NaT         |   NaT   |         NaT         |         NaT         |         NaT         |        NaT        |         NaT         |         NaT         |         NaT         |         NaT         |         NaT         | 1998-10-29 00:00:00 |\n",
            "| 1435 |         NaT         |         NaT         |         NaT         | 1989-11-06 00:00:00 |         NaT         |         NaT         |         NaT         |         NaT         |         NaT         |   NaT   |         NaT         |         NaT         |         NaT         |        NaT        |         NaT         |         NaT         |         NaT         |         NaT         | 1989-11-05 00:00:00 |         NaT         |\n",
            "| 1492 |         NaT         |         NaT         |         NaT         |         NaT         |         NaT         | 1984-03-02 00:00:00 | 1984-02-23 00:00:00 |         NaT         |         NaT         |   NaT   |         NaT         |         NaT         |         NaT         |        NaT        |         NaT         |         NaT         |         NaT         |         NaT         |         NaT         |         NaT         |\n",
            "| 1631 |         NaT         |         NaT         |         NaT         |         NaT         |         NaT         |         NaT         |         NaT         |         NaT         |         NaT         |   NaT   |         NaT         |         NaT         | 1999-03-22 00:00:00 |        NaT        |         NaT         |         NaT         |         NaT         |         NaT         |         NaT         |         NaT         |\n",
            "| 1654 |         NaT         |         NaT         |         NaT         |         NaT         |         NaT         |         NaT         |         NaT         |         NaT         |         NaT         |   NaT   |         NaT         |         NaT         |         NaT         |        NaT        | 2006-11-14 00:00:00 |         NaT         |         NaT         |         NaT         |         NaT         |         NaT         |\n",
            "| 1729 |         NaT         |         NaT         |         NaT         |         NaT         |         NaT         | 2014-02-18 00:00:00 |         NaT         |         NaT         |         NaT         |   NaT   |         NaT         |         NaT         |         NaT         |        NaT        |         NaT         |         NaT         |         NaT         |         NaT         |         NaT         |         NaT         |\n",
            "| 1738 |         NaT         |         NaT         |         NaT         |         NaT         |         NaT         |         NaT         |         NaT         |         NaT         |         NaT         |   NaT   |         NaT         |         NaT         |         NaT         |        NaT        | 1994-04-13 00:00:00 |         NaT         |         NaT         |         NaT         |         NaT         |         NaT         |\n",
            "| 1818 |         NaT         |         NaT         |         NaT         |         NaT         |         NaT         |         NaT         |         NaT         |         NaT         |         NaT         |   NaT   | 2008-08-19 00:00:00 |         NaT         |         NaT         |        NaT        |         NaT         |         NaT         |         NaT         |         NaT         |         NaT         |         NaT         |\n",
            "| 1911 |         NaT         |         NaT         |         NaT         | 2002-05-27 00:00:00 |         NaT         |         NaT         |         NaT         |         NaT         |         NaT         |   NaT   |         NaT         |         NaT         |         NaT         |        NaT        |         NaT         |         NaT         |         NaT         |         NaT         |         NaT         |         NaT         |\n",
            "| 1968 |         NaT         |         NaT         |         NaT         |         NaT         |         NaT         |         NaT         |         NaT         |         NaT         |         NaT         |   NaT   |         NaT         | 1997-01-25 00:00:00 |         NaT         |        NaT        | 1997-02-03 00:00:00 |         NaT         |         NaT         |         NaT         |         NaT         |         NaT         |\n",
            "| 1980 |         NaT         |         NaT         |         NaT         |         NaT         |         NaT         |         NaT         |         NaT         |         NaT         | 1988-07-07 00:00:00 |   NaT   |         NaT         |         NaT         |         NaT         |        NaT        | 1988-07-07 00:00:00 |         NaT         |         NaT         |         NaT         |         NaT         |         NaT         |\n",
            "| 1997 | 2008-04-11 00:00:00 |         NaT         |         NaT         |         NaT         |         NaT         |         NaT         |         NaT         |         NaT         |         NaT         |   NaT   |         NaT         |         NaT         |         NaT         |        NaT        |         NaT         | 2008-04-10 00:00:00 |         NaT         |         NaT         |         NaT         |         NaT         |\n",
            "| 2051 |         NaT         |         NaT         |         NaT         |         NaT         |         NaT         |         NaT         |         NaT         |         NaT         |         NaT         |   NaT   |         NaT         |         NaT         |         NaT         |        NaT        | 2002-09-23 00:00:00 |         NaT         |         NaT         | 2002-08-22 00:00:00 |         NaT         |         NaT         |\n",
            "| 2108 |         NaT         |         NaT         |         NaT         |         NaT         |         NaT         |         NaT         |         NaT         |         NaT         |         NaT         |   NaT   |         NaT         | 2011-11-26 00:00:00 |         NaT         |        NaT        |         NaT         |         NaT         |         NaT         |         NaT         |         NaT         | 2011-11-29 00:00:00 |\n",
            "| 2126 |         NaT         |         NaT         | 2000-02-15 00:00:00 |         NaT         |         NaT         |         NaT         |         NaT         |         NaT         |         NaT         |   NaT   |         NaT         |         NaT         |         NaT         |        NaT        | 2000-04-01 00:00:00 |         NaT         |         NaT         |         NaT         |         NaT         |         NaT         |\n",
            "| 2142 |         NaT         |         NaT         |         NaT         |         NaT         |         NaT         | 1981-11-09 00:00:00 |         NaT         |         NaT         |         NaT         |   NaT   |         NaT         |         NaT         |         NaT         |        NaT        |         NaT         |         NaT         |         NaT         |         NaT         |         NaT         |         NaT         |\n",
            "| 2149 |         NaT         |         NaT         |         NaT         | 2009-12-03 00:00:00 |         NaT         |         NaT         |         NaT         |         NaT         |         NaT         |   NaT   |         NaT         |         NaT         |         NaT         |        NaT        |         NaT         | 2010-02-17 00:00:00 |         NaT         |         NaT         |         NaT         |         NaT         |\n",
            "| 2153 |         NaT         |         NaT         |         NaT         |         NaT         |         NaT         |         NaT         |         NaT         |         NaT         |         NaT         |   NaT   |         NaT         |         NaT         |         NaT         |        NaT        | 2004-12-08 00:00:00 |         NaT         |         NaT         |         NaT         |         NaT         |         NaT         |\n",
            "| 2165 | 1993-04-13 00:00:00 |         NaT         |         NaT         |         NaT         |         NaT         |         NaT         |         NaT         |         NaT         |         NaT         |   NaT   |         NaT         |         NaT         |         NaT         |        NaT        |         NaT         |         NaT         |         NaT         |         NaT         |         NaT         | 1993-06-10 00:00:00 |\n",
            "| 2182 |         NaT         |         NaT         |         NaT         |         NaT         |         NaT         | 1985-08-27 00:00:00 |         NaT         |         NaT         |         NaT         |   NaT   |         NaT         |         NaT         |         NaT         |        NaT        |         NaT         |         NaT         |         NaT         |         NaT         |         NaT         | 1985-11-27 00:00:00 |\n",
            "| 2209 | 2004-03-13 00:00:00 |         NaT         |         NaT         | 2004-03-22 00:00:00 |         NaT         |         NaT         |         NaT         |         NaT         |         NaT         |   NaT   |         NaT         |         NaT         |         NaT         |        NaT        |         NaT         |         NaT         |         NaT         |         NaT         |         NaT         |         NaT         |\n",
            "| 2265 |         NaT         |         NaT         |         NaT         |         NaT         |         NaT         |         NaT         |         NaT         |         NaT         |         NaT         |   NaT   |         NaT         |         NaT         |         NaT         |        NaT        | 1989-04-27 00:00:00 |         NaT         |         NaT         |         NaT         |         NaT         |         NaT         |\n",
            "| 2331 |         NaT         |         NaT         |         NaT         |         NaT         |         NaT         |         NaT         |         NaT         |         NaT         |         NaT         |   NaT   |         NaT         |         NaT         |         NaT         |        NaT        | 2012-07-07 00:00:00 |         NaT         |         NaT         |         NaT         |         NaT         |         NaT         |\n",
            "| 2335 |         NaT         |         NaT         |         NaT         | 2012-09-27 00:00:00 |         NaT         |         NaT         |         NaT         |         NaT         |         NaT         |   NaT   |         NaT         |         NaT         |         NaT         |        NaT        | 2012-06-20 00:00:00 |         NaT         |         NaT         |         NaT         |         NaT         |         NaT         |\n",
            "| 2347 |         NaT         |         NaT         |         NaT         |         NaT         |         NaT         |         NaT         |         NaT         |         NaT         |         NaT         |   NaT   | 2003-07-09 00:00:00 |         NaT         |         NaT         |        NaT        |         NaT         |         NaT         |         NaT         |         NaT         |         NaT         |         NaT         |\n",
            "| 2370 |         NaT         |         NaT         |         NaT         |         NaT         | 2004-10-05 00:00:00 |         NaT         |         NaT         |         NaT         |         NaT         |   NaT   |         NaT         |         NaT         |         NaT         |        NaT        |         NaT         |         NaT         |         NaT         |         NaT         |         NaT         |         NaT         |\n",
            "| 2375 |         NaT         |         NaT         |         NaT         |         NaT         |         NaT         |         NaT         |         NaT         |         NaT         |         NaT         |   NaT   |         NaT         |         NaT         |         NaT         |        NaT        | 2004-11-27 00:00:00 |         NaT         |         NaT         | 2004-12-16 00:00:00 |         NaT         |         NaT         |\n",
            "| 2453 |         NaT         |         NaT         |         NaT         | 1989-08-23 00:00:00 |         NaT         |         NaT         |         NaT         |         NaT         |         NaT         |   NaT   |         NaT         |         NaT         |         NaT         |        NaT        |         NaT         |         NaT         |         NaT         |         NaT         |         NaT         |         NaT         |\n",
            "| 2614 |         NaT         |         NaT         |         NaT         |         NaT         |         NaT         |         NaT         |         NaT         |         NaT         |         NaT         |   NaT   |         NaT         | 1980-05-30 00:00:00 |         NaT         |        NaT        |         NaT         |         NaT         |         NaT         |         NaT         |         NaT         |         NaT         |\n",
            "| 2635 |         NaT         |         NaT         |         NaT         |         NaT         |         NaT         |         NaT         |         NaT         |         NaT         |         NaT         |   NaT   |         NaT         |         NaT         |         NaT         |        NaT        |         NaT         | 2016-02-16 00:00:00 |         NaT         |         NaT         |         NaT         |         NaT         |\n",
            "| 2741 |         NaT         |         NaT         |         NaT         |         NaT         |         NaT         |         NaT         |         NaT         |         NaT         |         NaT         |   NaT   |         NaT         |         NaT         |         NaT         |        NaT        |         NaT         |         NaT         |         NaT         |         NaT         |         NaT         | 1996-08-02 00:00:00 |\n",
            "| 2766 |         NaT         |         NaT         |         NaT         |         NaT         |         NaT         |         NaT         |         NaT         |         NaT         | 2014-09-12 00:00:00 |   NaT   |         NaT         |         NaT         |         NaT         |        NaT        |         NaT         | 2014-12-23 00:00:00 |         NaT         |         NaT         |         NaT         |         NaT         |\n",
            "| 2776 | 2000-01-20 00:00:00 |         NaT         |         NaT         |         NaT         |         NaT         |         NaT         |         NaT         |         NaT         |         NaT         |   NaT   |         NaT         |         NaT         |         NaT         |        NaT        |         NaT         |         NaT         |         NaT         | 1999-12-27 00:00:00 |         NaT         |         NaT         |\n",
            "| 2813 |         NaT         |         NaT         |         NaT         |         NaT         |         NaT         |         NaT         | 1994-07-05 00:00:00 | 1994-06-24 00:00:00 |         NaT         |   NaT   |         NaT         |         NaT         |         NaT         |        NaT        |         NaT         |         NaT         |         NaT         |         NaT         |         NaT         |         NaT         |\n",
            "| 2835 |         NaT         |         NaT         |         NaT         |         NaT         |         NaT         |         NaT         |         NaT         | 2003-12-20 00:00:00 |         NaT         |   NaT   |         NaT         |         NaT         |         NaT         |        NaT        |         NaT         |         NaT         |         NaT         |         NaT         |         NaT         |         NaT         |\n",
            "+------+---------------------+---------------------+---------------------+---------------------+---------------------+---------------------+---------------------+---------------------+---------------------+---------+---------------------+---------------------+---------------------+-------------------+---------------------+---------------------+---------------------+---------------------+---------------------+---------------------+\n"
          ]
        }
      ]
    },
    {
      "cell_type": "markdown",
      "source": [
        "In this step, from admissions_img, I remove any rows with missing values (NA) in 2 or more variables and name the\n",
        "resulting data frame q5_df. Then, I report the missing rate (%) in each field from this data frame."
      ],
      "metadata": {
        "id": "dXVsxuQfKsOC"
      }
    },
    {
      "cell_type": "code",
      "source": [
        "missing_count = admissions_img.isnull().sum()\n",
        "missing_rate = missing_count / len(admissions_img) * 100\n",
        "\n",
        "print(\"Missing values count:\")\n",
        "print(missing_count)\n",
        "print(\"Missing rate (%) :\")\n",
        "print(missing_rate.to_markdown())"
      ],
      "metadata": {
        "id": "iX5DJONIKm_u",
        "colab": {
          "base_uri": "https://localhost:8080/",
          "height": 0
        },
        "outputId": "bac9968f-c7f9-4053-f989-2da44981c9cf"
      },
      "execution_count": 31,
      "outputs": [
        {
          "output_type": "stream",
          "name": "stdout",
          "text": [
            "Missing values count in each column:\n",
            "ADMISSION.DATE          3548\n",
            "ADMISSION.TIME          3548\n",
            "DISCHARGE.DATE          3548\n",
            "DISCHARGE.TIME          3764\n",
            "DEPARTMENT              3548\n",
            "GENDER                  3548\n",
            "AGE                     3664\n",
            "MAIN.DIAGNOSIS.ICD10    3548\n",
            "MAIN.DIAGNOSIS.NAME     3692\n",
            "ID                         0\n",
            "admission_date          1858\n",
            "admission_time          1858\n",
            "discharge_date          1858\n",
            "discharge_time          2265\n",
            "department              1858\n",
            "gender                  1858\n",
            "age                     2058\n",
            "main_diagnosis_icd10    1858\n",
            "main_diagnosis_name     2147\n",
            "test_name                406\n",
            "ordered_date_time       2104\n",
            "performed_date           406\n",
            "performed_time           406\n",
            "technician_name          406\n",
            "brief_report             406\n",
            "admission_datetime      1858\n",
            "discharge_datetime      2265\n",
            "length_of_stay          2265\n",
            "dtype: int64\n",
            "Missing rate (%) in each column:\n",
            "|                      |        0 |\n",
            "|:---------------------|---------:|\n",
            "| ADMISSION.DATE       | 65.6308  |\n",
            "| ADMISSION.TIME       | 65.6308  |\n",
            "| DISCHARGE.DATE       | 65.6308  |\n",
            "| DISCHARGE.TIME       | 69.6263  |\n",
            "| DEPARTMENT           | 65.6308  |\n",
            "| GENDER               | 65.6308  |\n",
            "| AGE                  | 67.7765  |\n",
            "| MAIN.DIAGNOSIS.ICD10 | 65.6308  |\n",
            "| MAIN.DIAGNOSIS.NAME  | 68.2945  |\n",
            "| ID                   |  0       |\n",
            "| admission_date       | 34.3692  |\n",
            "| admission_time       | 34.3692  |\n",
            "| discharge_date       | 34.3692  |\n",
            "| discharge_time       | 41.8979  |\n",
            "| department           | 34.3692  |\n",
            "| gender               | 34.3692  |\n",
            "| age                  | 38.0688  |\n",
            "| main_diagnosis_icd10 | 34.3692  |\n",
            "| main_diagnosis_name  | 39.7151  |\n",
            "| test_name            |  7.51017 |\n",
            "| ordered_date_time    | 38.9197  |\n",
            "| performed_date       |  7.51017 |\n",
            "| performed_time       |  7.51017 |\n",
            "| technician_name      |  7.51017 |\n",
            "| brief_report         |  7.51017 |\n",
            "| admission_datetime   | 34.3692  |\n",
            "| discharge_datetime   | 41.8979  |\n",
            "| length_of_stay       | 41.8979  |\n"
          ]
        }
      ]
    },
    {
      "cell_type": "code",
      "source": [
        "\n",
        "\n",
        "q5_df = admissions_img.dropna(thresh=len(admissions_img.columns) - 1)\n",
        "\n",
        "missing_rate = q5_df.isnull().mean() * 100\n",
        "print(\"Missing rate (%) from q5_df:\")\n",
        "print(missing_rate.to_markdown())\n"
      ],
      "metadata": {
        "colab": {
          "base_uri": "https://localhost:8080/",
          "height": 0
        },
        "collapsed": true,
        "id": "onyW3emiBqTa",
        "outputId": "96fd8da6-7f2f-437a-ca5a-9d804c5e5771"
      },
      "execution_count": 75,
      "outputs": [
        {
          "output_type": "stream",
          "name": "stdout",
          "text": [
            "Missing rate (%) in each field from q5_df:\n",
            "|                      |   0 |\n",
            "|:---------------------|----:|\n",
            "| ADMISSION.DATE       | nan |\n",
            "| ADMISSION.TIME       | nan |\n",
            "| DISCHARGE.DATE       | nan |\n",
            "| DISCHARGE.TIME       | nan |\n",
            "| DEPARTMENT           | nan |\n",
            "| GENDER               | nan |\n",
            "| AGE                  | nan |\n",
            "| MAIN.DIAGNOSIS.ICD10 | nan |\n",
            "| MAIN.DIAGNOSIS.NAME  | nan |\n",
            "| ID                   | nan |\n",
            "| admission_date       | nan |\n",
            "| admission_time       | nan |\n",
            "| discharge_date       | nan |\n",
            "| discharge_time       | nan |\n",
            "| department           | nan |\n",
            "| gender               | nan |\n",
            "| age                  | nan |\n",
            "| main_diagnosis_icd10 | nan |\n",
            "| main_diagnosis_name  | nan |\n",
            "| test_name            | nan |\n",
            "| ordered_date_time    | nan |\n",
            "| performed_date       | nan |\n",
            "| performed_time       | nan |\n",
            "| technician_name      | nan |\n",
            "| brief_report         | nan |\n",
            "| admission_datetime   | nan |\n",
            "| discharge_datetime   | nan |\n",
            "| length_of_stay       | nan |\n"
          ]
        }
      ]
    },
    {
      "cell_type": "markdown",
      "source": [
        "Using the imaging data, I create a frequency table of unique test_name, with decreasing order of\n",
        "frequency and I name this table img_mapper.\n",
        "In img_mapper,I  add a column named mapped_test which classifies each unique test_name into 3\n",
        "categories: \"US\" (or Ultrasound), \"CT\" and \"Others\"\n",
        "In img_mapper, I add another column named mapped_bodypart, which classifies each unique\n",
        "test_name into 3 categories, \"Neck/Head\", \"Abdomen/pelvis\", \"Others\". Display the table head."
      ],
      "metadata": {
        "id": "K_Mc5syVCkKZ"
      }
    },
    {
      "cell_type": "code",
      "source": [
        "\n",
        "from tabulate import tabulate\n",
        "\n",
        "img_mapper = imaging['test_name'].value_counts().reset_index()\n",
        "img_mapper.columns = ['raw_test_name', 'Frequency']\n",
        "\n",
        "def map_test_name(test_name):\n",
        "    test_name_upper = test_name.upper()\n",
        "    if 'US' in test_name_upper or 'ULTRASOUND' in test_name_upper:\n",
        "        return 'US'\n",
        "    elif 'CT' in test_name_upper:\n",
        "        return 'CT'\n",
        "    else:\n",
        "        return 'Others'\n",
        "\n",
        "def map_bodypart(test_name):\n",
        "    test_name_upper = test_name.upper()\n",
        "    if 'NECK' in test_name_upper or 'HEAD' in test_name_upper:\n",
        "        return 'Neck/Head'\n",
        "    elif 'ABDOMEN' in test_name_upper or 'PELVIS' in test_name_upper:\n",
        "        return 'Abdomen/Pelvis'\n",
        "    else:\n",
        "        return 'Others'\n",
        "\n",
        "img_mapper['mapped_test'] = img_mapper['raw_test_name'].apply(map_test_name)\n",
        "img_mapper['mapped_bodypart'] = img_mapper['raw_test_name'].apply(map_bodypart)\n",
        "\n",
        "print(\"Frequency table\")\n",
        "print(tabulate(img_mapper, headers='keys', tablefmt='grid'))\n"
      ],
      "metadata": {
        "colab": {
          "base_uri": "https://localhost:8080/",
          "height": 0
        },
        "id": "W_y9mp1hHOHS",
        "outputId": "388582ad-8e39-47df-a6c3-59d673e3a360"
      },
      "execution_count": 80,
      "outputs": [
        {
          "output_type": "stream",
          "name": "stdout",
          "text": [
            "\n",
            "Frequency table with mapped test and bodypart categories:\n",
            "+----+--------------------+-------------+---------------+-------------------+\n",
            "|    | raw_test_name      |   Frequency | mapped_test   | mapped_bodypart   |\n",
            "+====+====================+=============+===============+===================+\n",
            "|  0 | US                 |         680 | US            | Others            |\n",
            "+----+--------------------+-------------+---------------+-------------------+\n",
            "|  1 | CT                 |         511 | CT            | Others            |\n",
            "+----+--------------------+-------------+---------------+-------------------+\n",
            "|  2 | Ultrasound         |         441 | US            | Others            |\n",
            "+----+--------------------+-------------+---------------+-------------------+\n",
            "|  3 | ct neck and head   |         408 | CT            | Neck/Head         |\n",
            "+----+--------------------+-------------+---------------+-------------------+\n",
            "|  4 | US ABDOMEN         |         396 | US            | Abdomen/Pelvis    |\n",
            "+----+--------------------+-------------+---------------+-------------------+\n",
            "|  5 | CT neck + head     |         385 | CT            | Neck/Head         |\n",
            "+----+--------------------+-------------+---------------+-------------------+\n",
            "|  6 | ABDOMEN/PELVIS US  |         313 | US            | Abdomen/Pelvis    |\n",
            "+----+--------------------+-------------+---------------+-------------------+\n",
            "|  7 | CT - ABDOMEN       |         310 | CT            | Abdomen/Pelvis    |\n",
            "+----+--------------------+-------------+---------------+-------------------+\n",
            "|  8 | NECK AND HEAD CT   |         248 | CT            | Neck/Head         |\n",
            "+----+--------------------+-------------+---------------+-------------------+\n",
            "|  9 | Doppler Ultrasound |         233 | US            | Others            |\n",
            "+----+--------------------+-------------+---------------+-------------------+\n",
            "| 10 | Abdomen CT         |         157 | CT            | Abdomen/Pelvis    |\n",
            "+----+--------------------+-------------+---------------+-------------------+\n",
            "| 11 | ct neck            |         146 | CT            | Neck/Head         |\n",
            "+----+--------------------+-------------+---------------+-------------------+\n",
            "| 12 | RT LEG DOPPLER     |         133 | Others        | Others            |\n",
            "+----+--------------------+-------------+---------------+-------------------+\n",
            "| 13 | DOPPLER US         |         115 | US            | Others            |\n",
            "+----+--------------------+-------------+---------------+-------------------+\n",
            "| 14 | LT LEG DOPPLER     |         107 | Others        | Others            |\n",
            "+----+--------------------+-------------+---------------+-------------------+\n",
            "| 15 | DOP LEG VEIN       |         101 | Others        | Others            |\n",
            "+----+--------------------+-------------+---------------+-------------------+\n",
            "| 16 | THORAX/ABDOMEN CT  |         100 | CT            | Abdomen/Pelvis    |\n",
            "+----+--------------------+-------------+---------------+-------------------+\n",
            "| 17 | CT - Femur         |          89 | CT            | Others            |\n",
            "+----+--------------------+-------------+---------------+-------------------+\n",
            "| 18 | Head ct            |          82 | CT            | Neck/Head         |\n",
            "+----+--------------------+-------------+---------------+-------------------+\n",
            "| 19 | US PELVIS          |          45 | US            | Abdomen/Pelvis    |\n",
            "+----+--------------------+-------------+---------------+-------------------+\n"
          ]
        }
      ]
    }
  ]
}